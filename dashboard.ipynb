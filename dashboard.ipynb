{
 "cells": [
  {
   "metadata": {},
   "cell_type": "markdown",
   "source": [
    "# Credit Fraud Detection Dashboard\n",
    "using kaggle dataset"
   ],
   "id": "466c131ad6c9383f"
  },
  {
   "metadata": {
    "ExecuteTime": {
     "end_time": "2025-09-12T12:53:23.181827Z",
     "start_time": "2025-09-12T12:53:22.795295Z"
    }
   },
   "cell_type": "code",
   "source": [
    "# Initial run to import and set data\n",
    "import pandas, kagglehub\n",
    "\n",
    "PATH = kagglehub.dataset_download(\"mlg-ulb/creditcardfraud\")\n",
    "print(\"Path to dataset files:\", PATH)"
   ],
   "id": "92d9965b5924b6ef",
   "outputs": [
    {
     "name": "stdout",
     "output_type": "stream",
     "text": [
      "Warning: Looks like you're using an outdated `kagglehub` version, please consider updating (latest version: 0.3.13)\n",
      "Path to dataset files: /Users/benmorgan/.cache/kagglehub/datasets/mlg-ulb/creditcardfraud/versions/3\n"
     ]
    }
   ],
   "execution_count": 6
  },
  {
   "metadata": {
    "ExecuteTime": {
     "end_time": "2025-09-12T12:53:25.437785Z",
     "start_time": "2025-09-12T12:53:24.641461Z"
    }
   },
   "cell_type": "code",
   "source": [
    "# Create Panda DF\n",
    "\n",
    "csv_path = PATH + '/creditcard.csv'\n",
    "df = pandas.read_csv(csv_path)\n",
    "print(df.head())\n",
    "print(df[\"Class\"].value_counts(normalize=True)*100)"
   ],
   "id": "1c71307c050d93f3",
   "outputs": [
    {
     "name": "stdout",
     "output_type": "stream",
     "text": [
      "   Time        V1        V2        V3        V4        V5        V6        V7  \\\n",
      "0   0.0 -1.359807 -0.072781  2.536347  1.378155 -0.338321  0.462388  0.239599   \n",
      "1   0.0  1.191857  0.266151  0.166480  0.448154  0.060018 -0.082361 -0.078803   \n",
      "2   1.0 -1.358354 -1.340163  1.773209  0.379780 -0.503198  1.800499  0.791461   \n",
      "3   1.0 -0.966272 -0.185226  1.792993 -0.863291 -0.010309  1.247203  0.237609   \n",
      "4   2.0 -1.158233  0.877737  1.548718  0.403034 -0.407193  0.095921  0.592941   \n",
      "\n",
      "         V8        V9  ...       V21       V22       V23       V24       V25  \\\n",
      "0  0.098698  0.363787  ... -0.018307  0.277838 -0.110474  0.066928  0.128539   \n",
      "1  0.085102 -0.255425  ... -0.225775 -0.638672  0.101288 -0.339846  0.167170   \n",
      "2  0.247676 -1.514654  ...  0.247998  0.771679  0.909412 -0.689281 -0.327642   \n",
      "3  0.377436 -1.387024  ... -0.108300  0.005274 -0.190321 -1.175575  0.647376   \n",
      "4 -0.270533  0.817739  ... -0.009431  0.798278 -0.137458  0.141267 -0.206010   \n",
      "\n",
      "        V26       V27       V28  Amount  Class  \n",
      "0 -0.189115  0.133558 -0.021053  149.62      0  \n",
      "1  0.125895 -0.008983  0.014724    2.69      0  \n",
      "2 -0.139097 -0.055353 -0.059752  378.66      0  \n",
      "3 -0.221929  0.062723  0.061458  123.50      0  \n",
      "4  0.502292  0.219422  0.215153   69.99      0  \n",
      "\n",
      "[5 rows x 31 columns]\n",
      "Class\n",
      "0    99.827251\n",
      "1     0.172749\n",
      "Name: proportion, dtype: float64\n"
     ]
    }
   ],
   "execution_count": 7
  },
  {
   "metadata": {},
   "cell_type": "markdown",
   "source": "V1-V28 data has already been PCA'd so we need to carry out PCA on time and amount before any modelling",
   "id": "73816b3ad31ce7fd"
  },
  {
   "metadata": {
    "ExecuteTime": {
     "end_time": "2025-09-12T12:53:28.263177Z",
     "start_time": "2025-09-12T12:53:28.220936Z"
    }
   },
   "cell_type": "code",
   "source": [
    "from sklearn.model_selection import train_test_split\n",
    "\n",
    "x = df.drop(\"Class\", axis=1)\n",
    "y = df[\"Class\"]\n",
    "\n",
    "x_train, x_test, y_train, y_test = train_test_split(x,y, test_size=0.2, random_state=42)"
   ],
   "id": "dfebbf2db40fb2d",
   "outputs": [],
   "execution_count": 8
  },
  {
   "metadata": {
    "ExecuteTime": {
     "end_time": "2025-09-12T12:55:38.012988Z",
     "start_time": "2025-09-12T12:55:37.995018Z"
    }
   },
   "cell_type": "code",
   "source": [
    "from sklearn.preprocessing import StandardScaler\n",
    "\n",
    "scaler = StandardScaler()\n",
    "\n",
    "x_train[['Time','Amount']] = scaler.fit_transform(x_train[['Time','Amount']])\n",
    "x_test[['Time','Amount']] = scaler.transform(x_test[['Time','Amount']])"
   ],
   "id": "936576c1008cff6c",
   "outputs": [],
   "execution_count": 9
  },
  {
   "metadata": {
    "ExecuteTime": {
     "end_time": "2025-09-12T12:57:27.170652Z",
     "start_time": "2025-09-12T12:57:27.128998Z"
    }
   },
   "cell_type": "code",
   "source": [
    "import matplotlib.pyplot as plt\n",
    "\n",
    "print(y_train.value_counts(normalize=True))\n",
    "\n",
    "plt.bar(['Legit','Fraud'], y_train.value_counts())\n",
    "plt.title(\"Fraud vs Legit in Training Data\")\n",
    "plt.show()"
   ],
   "id": "dc7dd4f688739fa3",
   "outputs": [
    {
     "name": "stdout",
     "output_type": "stream",
     "text": [
      "Class\n",
      "0    0.998271\n",
      "1    0.001729\n",
      "Name: proportion, dtype: float64\n"
     ]
    },
    {
     "data": {
      "text/plain": [
       "<Figure size 640x480 with 1 Axes>"
      ],
      "image/png": "[encoded data removed]"
     },
     "metadata": {},
     "output_type": "display_data"
    }
   ],
   "execution_count": 11
  }
 ],
 "metadata": {
  "kernelspec": {
   "name": "python3",
   "language": "python",
   "display_name": "Python 3 (ipykernel)"
  }
 },
 "nbformat": 5,
 "nbformat_minor": 9
}
